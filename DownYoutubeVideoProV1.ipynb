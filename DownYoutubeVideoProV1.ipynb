{
  "nbformat": 4,
  "nbformat_minor": 0,
  "metadata": {
    "colab": {
      "provenance": []
    },
    "kernelspec": {
      "name": "python3",
      "display_name": "Python 3"
    },
    "language_info": {
      "name": "python"
    }
  },
  "cells": [
    {
      "cell_type": "code",
      "execution_count": 1,
      "metadata": {
        "colab": {
          "base_uri": "https://localhost:8080/"
        },
        "id": "U4v4SpsvkyAf",
        "outputId": "0876cd77-32f7-4d9d-eb16-8dd0347f03e5"
      },
      "outputs": [
        {
          "output_type": "stream",
          "name": "stdout",
          "text": [
            "Collecting yt-dlp\n",
            "  Downloading yt_dlp-2024.12.23-py3-none-any.whl.metadata (172 kB)\n",
            "\u001b[?25l     \u001b[90m━━━━━━━━━━━━━━━━━━━━━━━━━━━━━━━━━━━━━━━━\u001b[0m \u001b[32m0.0/172.1 kB\u001b[0m \u001b[31m?\u001b[0m eta \u001b[36m-:--:--\u001b[0m\r\u001b[2K     \u001b[91m━━━━━━━━━━━━━━━━━━━━━━━━━━━━━━━━━━━━━━\u001b[0m\u001b[90m╺\u001b[0m\u001b[90m━\u001b[0m \u001b[32m163.8/172.1 kB\u001b[0m \u001b[31m6.9 MB/s\u001b[0m eta \u001b[36m0:00:01\u001b[0m\r\u001b[2K     \u001b[90m━━━━━━━━━━━━━━━━━━━━━━━━━━━━━━━━━━━━━━━━\u001b[0m \u001b[32m172.1/172.1 kB\u001b[0m \u001b[31m4.3 MB/s\u001b[0m eta \u001b[36m0:00:00\u001b[0m\n",
            "\u001b[?25hDownloading yt_dlp-2024.12.23-py3-none-any.whl (3.2 MB)\n",
            "\u001b[?25l   \u001b[90m━━━━━━━━━━━━━━━━━━━━━━━━━━━━━━━━━━━━━━━━\u001b[0m \u001b[32m0.0/3.2 MB\u001b[0m \u001b[31m?\u001b[0m eta \u001b[36m-:--:--\u001b[0m\r\u001b[2K   \u001b[91m━━━━━━━━━━━━━━━━━━━━━━━━━\u001b[0m\u001b[90m╺\u001b[0m\u001b[90m━━━━━━━━━━━━━━\u001b[0m \u001b[32m2.0/3.2 MB\u001b[0m \u001b[31m53.9 MB/s\u001b[0m eta \u001b[36m0:00:01\u001b[0m\r\u001b[2K   \u001b[91m━━━━━━━━━━━━━━━━━━━━━━━━━━━━━━━━━━━━━━━\u001b[0m\u001b[91m╸\u001b[0m \u001b[32m3.2/3.2 MB\u001b[0m \u001b[31m60.9 MB/s\u001b[0m eta \u001b[36m0:00:01\u001b[0m\r\u001b[2K   \u001b[90m━━━━━━━━━━━━━━━━━━━━━━━━━━━━━━━━━━━━━━━━\u001b[0m \u001b[32m3.2/3.2 MB\u001b[0m \u001b[31m33.2 MB/s\u001b[0m eta \u001b[36m0:00:00\u001b[0m\n",
            "\u001b[?25hInstalling collected packages: yt-dlp\n",
            "Successfully installed yt-dlp-2024.12.23\n"
          ]
        }
      ],
      "source": [
        "!pip install yt-dlp"
      ]
    },
    {
      "cell_type": "code",
      "source": [
        "import yt_dlp\n",
        "import os\n",
        "\n",
        "# URL của video hoặc playlist YouTube\n",
        "url = \"https://www.youtube.com/watch?v=r5TOpRmQh-o&list=PLaaFfzxy_80HtVvBnpK_IjSC8_Y9AOhuP\"\n",
        "\n",
        "# Đường dẫn tới thư mục bạn muốn lưu video\n",
        "output_folder = '/content/drive/MyDrive/C1'\n",
        "\n",
        "# Đường dẫn tới tệp cookie của bạn\n",
        "cookie_file = '/content/cc.txt'\n",
        "\n",
        "# Tạo thư mục nếu nó chưa tồn tại\n",
        "os.makedirs(output_folder, exist_ok=True)\n",
        "\n",
        "# Cấu hình options cho yt-dlp\n",
        "options = {\n",
        "    'outtmpl': os.path.join(output_folder, '%(title)s.%(ext)s'),  # Đường dẫn lưu video\n",
        "    'format': 'bestvideo+bestaudio/best',  # Tải video chất lượng tốt nhất\n",
        "    'merge_output_format': 'mkv',  # Hợp nhất thành MKV nếu cần\n",
        "    'remux_video': 'mp4',  # Ép remux thành MP4\n",
        "    'quiet': False,  # Hiển thị thông tin khi tải\n",
        "    'noplaylist': False,  # Không tải cả playlist nếu chỉ có 1 video\n",
        "    'cookiefile': cookie_file,  # Tệp cookie đã xuất\n",
        "    'subtitleslangs': ['vi'],  # Chọn ngôn ngữ phụ đề\n",
        "    'writeautomaticsub': True,  # Tải phụ đề tự động\n",
        "    'writesubtitles': True,  # Tải phụ đề nếu có\n",
        "}\n",
        "\n",
        "# Tải video\n",
        "try:\n",
        "    with yt_dlp.YoutubeDL(options) as ydl:\n",
        "        ydl.download([url])\n",
        "except yt_dlp.utils.DownloadError as e:\n",
        "    print(f\"Lỗi khi tải video: {e}\")\n"
      ],
      "metadata": {
        "id": "eprO_hNZSieD",
        "collapsed": true
      },
      "execution_count": null,
      "outputs": []
    },
    {
      "cell_type": "code",
      "source": [
        "from google.colab import drive\n",
        "drive.mount('/content/drive')"
      ],
      "metadata": {
        "colab": {
          "base_uri": "https://localhost:8080/"
        },
        "id": "T4NbGRyBHlPG",
        "outputId": "908e1bf1-3937-4dd3-8ef9-d62b268c6f3e"
      },
      "execution_count": 5,
      "outputs": [
        {
          "output_type": "stream",
          "name": "stdout",
          "text": [
            "Mounted at /content/drive\n"
          ]
        }
      ]
    }
  ]
}